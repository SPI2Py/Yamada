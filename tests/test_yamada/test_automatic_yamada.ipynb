{
 "cells": [
  {
   "cell_type": "code",
   "execution_count": 1,
   "metadata": {},
   "source": [
    "import numpy as np\n",
    "from yamada import SpatialGraph, normalize_yamada_polynomial\n",
    "from cypari import pari\n",
    "\n",
    "np.random.seed(0)\n"
   ],
   "outputs": []
  },
  {
   "cell_type": "markdown",
   "source": [
    "## Calculate the Yamada polynomial of the unknot\n",
    "\n",
    "\n",
    "![Infinity Symbol](./images/unknot/unknot.png)"
   ],
   "metadata": {
    "collapsed": false
   }
  },
  {
   "cell_type": "code",
   "execution_count": 2,
   "source": [
    "def test_unknot():\n",
    "\n",
    "    a = pari('A')\n",
    "\n",
    "    for i in range(6):\n",
    "        np.random.seed(i)\n",
    "\n",
    "        sg = SpatialGraph(nodes=['a', 'b', 'c'],\n",
    "                          node_positions={'a': [0, 0.5, 0],\n",
    "                                          'b': [-1, 0.5, 1],\n",
    "                                          'c': [1, 0, 0]},\n",
    "                          edges=[('a', 'b'), ('b', 'c'), ('c', 'a')])\n",
    "\n",
    "        sgd = sg.create_spatial_graph_diagram()\n",
    "\n",
    "        assert sgd.normalized_yamada_polynomial() == normalize_yamada_polynomial(-a ** 2 - a - 1)\n"
   ],
   "metadata": {
    "collapsed": false
   },
   "outputs": []
  },
  {
   "cell_type": "markdown",
   "source": [],
   "metadata": {
    "collapsed": false
   }
  },
  {
   "cell_type": "markdown",
   "source": [
    "## The Unknot with a single twist (infinity symbol)\n",
    "\n",
    "![Infinity Symbol](./images/unknot/infinity_symbol_version_2.png)"
   ],
   "metadata": {
    "collapsed": false
   }
  },
  {
   "cell_type": "code",
   "execution_count": 3,
   "source": [
    "def test_unknot_single_twist():\n",
    "\n",
    "    a = pari('A')\n",
    "\n",
    "    for i in range(6):\n",
    "\n",
    "        np.random.seed(0)\n",
    "\n",
    "        sg = SpatialGraph(nodes=['a', 'b', 'c', 'd'],\n",
    "                          node_positions={'a': [0, 0.5, 0],\n",
    "                                          'b': [1, 0.5, 1],\n",
    "                                          'c': [1, 0, 0],\n",
    "                                          'd': [0, 0, 1]},\n",
    "                          edges=[('a', 'b'), ('b', 'c'), ('c', 'd'), ('d', 'a')])\n",
    "\n",
    "        sgd = sg.create_spatial_graph_diagram()\n",
    "\n",
    "        assert sgd.normalized_yamada_polynomial() == normalize_yamada_polynomial(-a ** 2 - a - 1)"
   ],
   "metadata": {
    "collapsed": false
   },
   "outputs": []
  },
  {
   "cell_type": "markdown",
   "source": [],
   "metadata": {
    "collapsed": false
   }
  },
  {
   "cell_type": "code",
   "execution_count": 3,
   "source": [],
   "metadata": {
    "collapsed": false
   },
   "outputs": []
  },
  {
   "cell_type": "markdown",
   "source": [
    "## The Unknot with a double twist\n",
    "\n",
    "![Unknot](./images/unknot/Unknot_double_twist.png)"
   ],
   "metadata": {
    "collapsed": false
   }
  },
  {
   "cell_type": "code",
   "execution_count": 4,
   "source": [
    "def test_unknot_double_twist():\n",
    "\n",
    "    a = pari('A')\n",
    "\n",
    "    for i in range(6):\n",
    "        np.random.seed(i)\n",
    "        sg1 = SpatialGraph(nodes=['a', 'b', 'c', 'd', 'e', 'f'],\n",
    "                           node_positions={'a': [0, 0.5, 0],\n",
    "                                           'b': [1, 0, 1],\n",
    "                                           'c': [2, 0.5, 0],\n",
    "                                           'd': [3, 0, 1],\n",
    "                                           'e': [1, 1, 0],\n",
    "                                           'f': [-1, 0, 1]},\n",
    "                           edges=[('a', 'b'), ('b', 'c'), ('c', 'd'), ('d', 'e'), ('e', 'f'), ('f', 'a')])\n",
    "\n",
    "        sgd1 = sg1.create_spatial_graph_diagram()\n",
    "\n",
    "        assert sgd1.normalized_yamada_polynomial() == normalize_yamada_polynomial(-a ** 2 - a - 1)"
   ],
   "metadata": {
    "collapsed": false
   },
   "outputs": []
  },
  {
   "cell_type": "markdown",
   "source": [
    "## The Unknot with four crossings along one edge\n",
    "\n",
    "The example tests to ensure that the calculator correctly handles the cyclic ordering of vertices and crossings so that it preserves the topology of the unknot.\n",
    "\n",
    "![Unknot with four crossings](./images/unknot/unknot_four_crossings.png)"
   ],
   "metadata": {
    "collapsed": false
   }
  },
  {
   "cell_type": "code",
   "execution_count": 5,
   "source": [
    "def test_unknot_four_crossings():\n",
    "\n",
    "    nodes = ['a', 'b', 'c', 'd', 'e','f','g']\n",
    "    node_positions = {'a': [0,0,0],\n",
    "                      'b': [1,1,2],\n",
    "                      'c': [2,0,0],\n",
    "                      'd': [3,1,2],\n",
    "                      'e': [4,0,0],\n",
    "                      'f': [4,0,1],\n",
    "                      'g': [0,0,1]}\n",
    "    edges = [('a', 'b'), ('b', 'c'), ('c', 'd'), ('d', 'e'), ('e', 'f'), ('f', 'g'), ('g','a')]\n",
    "\n",
    "    sg = SpatialGraph(nodes=nodes,\n",
    "                      node_positions=node_positions,\n",
    "                      edges=edges)\n",
    "\n",
    "    sgd = sg.create_spatial_graph_diagram()\n",
    "\n",
    "    a = pari('A')\n",
    "\n",
    "    assert sgd.normalized_yamada_polynomial() == normalize_yamada_polynomial(-a ** 2 - a - 1)"
   ],
   "metadata": {
    "collapsed": false
   },
   "outputs": []
  },
  {
   "cell_type": "markdown",
   "source": [],
   "metadata": {
    "collapsed": false
   }
  },
  {
   "cell_type": "code",
   "execution_count": 6,
   "source": [
    "def test_double_crossing_single_edge():\n",
    "    # TODO Implement this test.\n",
    "    pass\n"
   ],
   "metadata": {
    "collapsed": false
   },
   "outputs": []
  },
  {
   "cell_type": "markdown",
   "source": [],
   "metadata": {
    "collapsed": false
   }
  },
  {
   "cell_type": "code",
   "execution_count": 7,
   "source": [
    "def test_triple_crossing_single_edge():\n",
    "    # TODO Implement this test.\n",
    "    pass"
   ],
   "metadata": {
    "collapsed": false
   },
   "outputs": []
  },
  {
   "cell_type": "markdown",
   "source": [],
   "metadata": {
    "collapsed": false
   }
  },
  {
   "cell_type": "code",
   "execution_count": 8,
   "source": [
    "def test_quadrivalent_node():\n",
    "    pass\n"
   ],
   "metadata": {
    "collapsed": false
   },
   "outputs": []
  },
  {
   "cell_type": "markdown",
   "source": [],
   "metadata": {
    "collapsed": false
   }
  },
  {
   "cell_type": "markdown",
   "source": [],
   "metadata": {
    "collapsed": false
   }
  }
 ],
 "metadata": {
  "language_info": {
   "name": "python"
  },
  "orig_nbformat": 4
 },
 "nbformat": 4,
 "nbformat_minor": 2
}
