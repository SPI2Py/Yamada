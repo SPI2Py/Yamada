{
 "cells": [
  {
   "metadata": {},
   "cell_type": "markdown",
   "source": "",
   "id": "a7e393c726a98bb2"
  },
  {
   "cell_type": "code",
   "execution_count": null,
   "id": "initial_id",
   "metadata": {
    "collapsed": true
   },
   "outputs": [],
   "source": [
    "from cypari import pari\n",
    "from yamada import Edge, Crossing, Vertex, SpatialGraphDiagram\n",
    "from yamada.Reidemeister import apply_r1, apply_r2\n",
    "from yamada.Anti_Reidemeister import anti_reidemeister_moves, apply_anti_reidemeister_move\n",
    "\n",
    "\n",
    "def test_anti_reidemeister_1():\n",
    "    a = pari('A')\n",
    "\n",
    "    yp_ground_truth = -a**2 - a - 1\n",
    "    \n",
    "    e1, e2 = Edge(1), Edge(2)\n",
    "    x1 = Crossing(\"x1\")\n",
    "    \n",
    "    e1[0] = x1[2]\n",
    "    e1[1] = x1[3]\n",
    "    e2[0] = x1[1]\n",
    "    e2[1] = x1[0]\n",
    "    \n",
    "    sgd = SpatialGraphDiagram([e1, e2, x1])\n",
    "    \n",
    "    yp_before = sgd.normalized_yamada_polynomial()\n",
    "    assert yp_before == yp_ground_truth\n",
    "    \n",
    "    arm = anti_reidemeister_moves(sgd)\n",
    "    sgd = apply_anti_reidemeister_move(sgd, arm[0])\n",
    "    \n",
    "    yp_after = sgd.normalized_yamada_polynomial()\n",
    "    assert yp_after == yp_ground_truth"
   ]
  },
  {
   "metadata": {},
   "cell_type": "markdown",
   "source": "",
   "id": "8e4f1534f9384cbb"
  },
  {
   "metadata": {},
   "cell_type": "code",
   "outputs": [],
   "execution_count": null,
   "source": [
    "def test_anti_reidemeister_2():\n",
    "    a = pari('A')\n",
    "\n",
    "    yp_ground_truth = -a**2 - a - 1\n",
    "    \n",
    "    e1, e2, e3, e4, e5, e6 = Edge(1), Edge(2), Edge(3), Edge(4), Edge(5), Edge(6)\n",
    "    \n",
    "    x1, x2, x3 = Crossing(\"x1\"), Crossing(\"x2\"), Crossing(\"x3\")\n",
    "    \n",
    "    x1[0] = e2[1]\n",
    "    x1[1] = e1[0]\n",
    "    x1[2] = e4[0]\n",
    "    x1[3] = e3[1]\n",
    "    \n",
    "    x2[0] = e6[0]\n",
    "    x2[1] = e2[0]\n",
    "    x2[2] = e3[0]\n",
    "    x2[3] = e5[0]\n",
    "    \n",
    "    x3[0] = e5[1]\n",
    "    x3[1] = e4[1]\n",
    "    x3[2] = e1[1]\n",
    "    x3[3] = e6[1]\n",
    "    \n",
    "    sgd = SpatialGraphDiagram([e1, e2, e3, e4, e5, e6, x1, x2, x3])\n",
    "    \n",
    "    yp_before = sgd.normalized_yamada_polynomial()\n",
    "    # assert yp_before == yp_ground_truth\n",
    "    \n",
    "    arm = anti_reidemeister_moves(sgd)\n",
    "    sgd = apply_anti_reidemeister_move(sgd, 'x1')\n",
    "    \n",
    "    sgd = apply_r2(sgd, (\"x2\", \"x3\"))\n",
    "    sgd = apply_r1(sgd, \"x1\")\n",
    "    \n",
    "    yp_after = sgd.normalized_yamada_polynomial()\n",
    "    assert yp_after == yp_ground_truth"
   ],
   "id": "d4d2f4971c98e259"
  }
 ],
 "metadata": {
  "kernelspec": {
   "display_name": "Python 3",
   "language": "python",
   "name": "python3"
  },
  "language_info": {
   "codemirror_mode": {
    "name": "ipython",
    "version": 2
   },
   "file_extension": ".py",
   "mimetype": "text/x-python",
   "name": "python",
   "nbconvert_exporter": "python",
   "pygments_lexer": "ipython2",
   "version": "2.7.6"
  }
 },
 "nbformat": 4,
 "nbformat_minor": 5
}
