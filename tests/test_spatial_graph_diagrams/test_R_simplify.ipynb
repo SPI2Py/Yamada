{
 "cells": [
  {
   "metadata": {},
   "cell_type": "code",
   "outputs": [],
   "execution_count": null,
   "source": [
    "from yamada import SpatialGraph\n",
    "from yamada.Reidemeister import reidemeister_simplify"
   ],
   "id": "2200a9e45c453527"
  },
  {
   "cell_type": "code",
   "execution_count": null,
   "id": "initial_id",
   "metadata": {
    "collapsed": true
   },
   "outputs": [],
   "source": [
    "def test_reidemeister_simplify():\n",
    "    \n",
    "    node_labels = [\"0\", \"1\", \"2\", \"3\", \"4\", \"5\", \"6\", \"7\",\n",
    "                   \"a\", \"b\", \"c\", \"d\", \"e\", \"f\", \"g\", \"h\", \"i\", \"j\", \"k\", \"l\", \"m\", \"n\", \"o\", \"p\", \"q\", \"r\"]\n",
    "    \n",
    "    node_positions = {\n",
    "        \"0\": (0, 0, 0),\n",
    "        'a': (0.15, 0,   0),\n",
    "        'b': (0.15, 0.1, 0),\n",
    "        'c': (0.15, 0.1, 0.1),\n",
    "        'd': (0.35, 0.1, 0.1),\n",
    "        'e': (0.35, 0.1, -0.1),\n",
    "        'f': (0.65, 0.1, -0.1),\n",
    "        'g': (0.65, 0.1, 0),\n",
    "        'h': (0.65, -0.1, 0),\n",
    "        'i': (0.45, -0.1, 0),\n",
    "        'j': (0.45, 0.2, 0),\n",
    "        'k': (0.25, 0.2, 0),\n",
    "        'l': (0.25, 0, 0),\n",
    "        'm': (0.25, 0, 0.1),\n",
    "        'n': (0.55, 0, 0.1),\n",
    "        'o': (0.55, 0, -0.1),\n",
    "        'p': (0.75, 0, -0.1),\n",
    "        'q': (0.75, 0, 0),\n",
    "        'r': (0.85, 0, 0),\n",
    "        \"1\": (1, 0, 0),\n",
    "        \"2\": (0, 1, 0),\n",
    "        \"3\": (1, 1, 0),\n",
    "        \"4\": (0, 0, 1),\n",
    "        \"5\": (1, 0, 1),\n",
    "        \"6\": (0, 1, 1),\n",
    "        \"7\": (1, 1, 1),\n",
    "    }\n",
    "    \n",
    "    edges = [\n",
    "        (\"0\", \"a\"),\n",
    "        (\"a\", \"b\"),\n",
    "        (\"b\", \"c\"),\n",
    "        (\"c\", \"d\"),\n",
    "        (\"d\", \"e\"),\n",
    "        (\"e\", \"f\"),\n",
    "        (\"f\", \"g\"),\n",
    "        (\"g\", \"h\"),\n",
    "        (\"h\", \"i\"),\n",
    "        (\"i\", \"j\"),\n",
    "        (\"j\", \"k\"),\n",
    "        (\"k\", \"l\"),\n",
    "        (\"l\", \"m\"),\n",
    "        (\"m\", \"n\"),\n",
    "        (\"n\", \"o\"),\n",
    "        (\"o\", \"p\"),\n",
    "        (\"p\", \"q\"),\n",
    "        (\"q\", \"r\"),\n",
    "        (\"r\", \"1\"),\n",
    "        (\"0\", \"2\"),\n",
    "        (\"0\", \"4\"),\n",
    "        (\"1\", \"3\"),\n",
    "        (\"1\", \"5\"),\n",
    "        (\"2\", \"3\"),\n",
    "        (\"2\", \"6\"),\n",
    "        (\"3\", \"7\"),\n",
    "        (\"4\", \"5\"),\n",
    "        (\"4\", \"6\"),\n",
    "        (\"5\", \"7\"),\n",
    "        (\"6\", \"7\")\n",
    "    ]\n",
    "    \n",
    "    # Instantiate the SpatialGraph object\n",
    "    sg = SpatialGraph(nodes=node_labels,\n",
    "                      node_positions=node_positions,\n",
    "                      edges=edges)\n",
    "    \n",
    "    # Plot\n",
    "    # sg.plot()\n",
    "    \n",
    "    # Create the spatial graph diagram (necessary for calculating the Yamada polynomial)\n",
    "    sgd = sg.create_spatial_graph_diagram()\n",
    "    \n",
    "    \n",
    "    # print(f\"Crossings: {len(sgd.crossings)}\")\n",
    "    \n",
    "    n_tries = 1000\n",
    "    sgd, r1_count, r2_count, r3_count = reidemeister_simplify(sgd, n_tries=n_tries)\n",
    "    # print(f\"R1: {r1_count}, R2: {r2_count}, R3: {r3_count}, Remaining Crossings: {len(sgd.crossings)}\")\n",
    "    \n",
    "    raise Exception\n",
    "\n"
   ]
  },
  {
   "metadata": {},
   "cell_type": "code",
   "outputs": [],
   "execution_count": null,
   "source": [
    "def test_demo():\n",
    "    \n",
    "    assert 1 == 0\n",
    "    \n",
    "    "
   ],
   "id": "ae6847e3ff09b005"
  },
  {
   "metadata": {},
   "cell_type": "code",
   "outputs": [],
   "execution_count": null,
   "source": [
    "# TODO Write various tests that R-Simplify with different combinations of R1, R2, and R3.\n",
    "# TODO Ensure Yamada polynomials also calculate correctly, etc."
   ],
   "id": "5dcbbfefdc0773bd"
  }
 ],
 "metadata": {
  "kernelspec": {
   "display_name": "Python 3",
   "language": "python",
   "name": "python3"
  },
  "language_info": {
   "codemirror_mode": {
    "name": "ipython",
    "version": 2
   },
   "file_extension": ".py",
   "mimetype": "text/x-python",
   "name": "python",
   "nbconvert_exporter": "python",
   "pygments_lexer": "ipython2",
   "version": "2.7.6"
  }
 },
 "nbformat": 4,
 "nbformat_minor": 5
}
