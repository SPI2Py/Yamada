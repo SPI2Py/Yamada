{
 "cells": [
  {
   "cell_type": "code",
   "execution_count": 1,
   "id": "initial_id",
   "metadata": {
    "collapsed": true,
    "ExecuteTime": {
     "end_time": "2024-02-28T18:16:49.123608700Z",
     "start_time": "2024-02-28T18:16:48.131775900Z"
    }
   },
   "outputs": [],
   "source": [
    "from cypari import pari\n",
    "from yamada import SpatialGraphDiagram, Crossing, Edge, has_r1, apply_r1"
   ]
  },
  {
   "cell_type": "markdown",
   "source": [
    "## Reidemeister 1\n",
    "\n",
    "![R1 Move](./images/r1_1.png)"
   ],
   "metadata": {
    "collapsed": false
   },
   "id": "ecc56414fcd8284"
  },
  {
   "cell_type": "code",
   "outputs": [],
   "source": [
    "def test_r1_1():\n",
    "    \n",
    "    a = pari('A')\n",
    "\n",
    "    yp_ground_truth = -a**2 - a -1\n",
    "\n",
    "    x1 = Crossing('x1')\n",
    "    x1[1], x1[3] = x1[2], x1[0]\n",
    "\n",
    "    e0, e1 = Edge(0), Edge(1)\n",
    "\n",
    "    e0[0], e0[1] = x1[0], x1[3]\n",
    "    e1[0], e1[1] = x1[2], x1[1]\n",
    "\n",
    "    sgd = SpatialGraphDiagram([x1, e0, e1])\n",
    "\n",
    "    yp_before_r1 = sgd.normalized_yamada_polynomial()\n",
    "    \n",
    "    assert yp_before_r1 == yp_ground_truth\n",
    "\n",
    "    r1_crossing_labels = has_r1(sgd)\n",
    "\n",
    "    assert len(r1_crossing_labels) == 1\n",
    "    assert 'x1' in r1_crossing_labels\n",
    "\n",
    "    sgd = apply_r1(sgd, 'x1')\n",
    "\n",
    "    yp_after_r1 = sgd.normalized_yamada_polynomial()\n",
    "\n",
    "    assert yp_after_r1 == yp_ground_truth\n",
    "    "
   ],
   "metadata": {
    "collapsed": false,
    "ExecuteTime": {
     "end_time": "2024-02-28T18:16:49.136326200Z",
     "start_time": "2024-02-28T18:16:49.121608700Z"
    }
   },
   "id": "2efbc1ad3b6697f8",
   "execution_count": 2
  },
  {
   "cell_type": "markdown",
   "source": [
    "![R1 Move](./images/r1_2.png)"
   ],
   "metadata": {
    "collapsed": false
   },
   "id": "7d3c151c1c1a4431"
  },
  {
   "cell_type": "code",
   "outputs": [],
   "source": [
    "def test_r1_2():\n",
    "    \n",
    "    a = pari('A')\n",
    "\n",
    "    yp_ground_truth = -a**2 - a -1\n",
    "\n",
    "    x1 = Crossing('x1')\n",
    "    x1[1], x1[3] = x1[2], x1[0]\n",
    "\n",
    "    sgd = SpatialGraphDiagram([x1])\n",
    "\n",
    "    yp_before_r1 = sgd.normalized_yamada_polynomial()\n",
    "    \n",
    "    assert yp_before_r1 == yp_ground_truth\n",
    "\n",
    "    r1_crossing_labels = has_r1(sgd)\n",
    "\n",
    "    assert len(r1_crossing_labels) == 1\n",
    "    assert 'x1' in r1_crossing_labels\n",
    "\n",
    "    sgd = apply_r1(sgd, 'x1')\n",
    "\n",
    "    yp_after_r1 = sgd.normalized_yamada_polynomial()\n",
    "\n",
    "    assert yp_after_r1 == yp_ground_truth\n",
    "    "
   ],
   "metadata": {
    "collapsed": false,
    "ExecuteTime": {
     "end_time": "2024-02-28T18:16:49.153072200Z",
     "start_time": "2024-02-28T18:16:49.136326200Z"
    }
   },
   "id": "e7e05460ad64cee4",
   "execution_count": 3
  },
  {
   "metadata": {},
   "cell_type": "markdown",
   "source": "![R1 Move](./images/r1_double_loop_same_orientation.jpg)",
   "id": "a424388e01b8d117"
  },
  {
   "metadata": {},
   "cell_type": "code",
   "outputs": [],
   "execution_count": null,
   "source": [
    "def test_r1_3():\n",
    "    \n",
    "    a = pari('A')\n",
    "\n",
    "    yp_ground_truth = -a**2 - a -1\n",
    "\n",
    "    x1 = Crossing('x1')\n",
    "    x2 = Crossing('x2')\n",
    "\n",
    "    e1, e2, e3, e4  = Edge(1), Edge(2), Edge(3), Edge(4)\n",
    "\n",
    "    x2[3] = e1[0]\n",
    "    x2[0] = e1[1]\n",
    "    x2[1] = e2[0]\n",
    "    x2[2] = e4[1]\n",
    "    \n",
    "    x1[2] = e2[1]\n",
    "    x1[1] = e4[0]\n",
    "    x1[0] = e3[1]\n",
    "    x1[3] = e3[0]\n",
    "\n",
    "    sgd = SpatialGraphDiagram([x1, x2, e1, e2, e3, e4])\n",
    "\n",
    "    yp_before_r1s = sgd.normalized_yamada_polynomial()\n",
    "    \n",
    "    assert yp_before_r1s == yp_ground_truth\n",
    "\n",
    "    r1_crossing_labels = has_r1(sgd)\n",
    "\n",
    "    assert len(r1_crossing_labels) == 2\n",
    "    assert 'x1' in r1_crossing_labels and 'x2' in r1_crossing_labels\n",
    "\n",
    "    sgd = apply_r1(sgd, 'x1')\n",
    "\n",
    "    yp_after_first_r1 = sgd.normalized_yamada_polynomial()\n",
    "    \n",
    "    assert yp_after_first_r1 == yp_ground_truth\n",
    "    \n",
    "    r1_crossing_labels = has_r1(sgd)\n",
    "    \n",
    "    assert len(r1_crossing_labels) == 1\n",
    "    assert 'x2' in r1_crossing_labels\n",
    "    \n",
    "    sgd = apply_r1(sgd, 'x2')\n",
    "    \n",
    "    yp_after_second_r1 = sgd.normalized_yamada_polynomial()\n",
    "    \n",
    "    assert yp_after_second_r1 == yp_ground_truth\n",
    "    \n",
    "    r1_crossing_labels = has_r1(sgd)\n",
    "    \n",
    "    assert len(r1_crossing_labels) == 0\n"
   ],
   "id": "2cba3d38d999d9b7"
  },
  {
   "metadata": {},
   "cell_type": "markdown",
   "source": "![R1 Move](./images/r1_double_loop_opposite_orientation.jpg)",
   "id": "29da813639bd0f2a"
  },
  {
   "metadata": {},
   "cell_type": "code",
   "outputs": [],
   "execution_count": null,
   "source": [
    "def test_r1_4():\n",
    "    \n",
    "    a = pari('A')\n",
    "\n",
    "    yp_ground_truth = -a**2 - a -1\n",
    "\n",
    "    x1 = Crossing('x1')\n",
    "    x2 = Crossing('x2')\n",
    "\n",
    "    e1, e2, e3, e4  = Edge(1), Edge(2), Edge(3), Edge(4)\n",
    "\n",
    "    x2[3] = e4[1]\n",
    "    x2[0] = e1[0]\n",
    "    x2[1] = e1[1]\n",
    "    x2[2] = e2[0]\n",
    "    \n",
    "    x1[2] = e2[1]\n",
    "    x1[1] = e4[0]\n",
    "    x1[0] = e3[1]\n",
    "    x1[3] = e3[0]\n",
    "\n",
    "    sgd = SpatialGraphDiagram([x1, x2, e1, e2, e3, e4])\n",
    "\n",
    "    yp_before_r1s = sgd.normalized_yamada_polynomial()\n",
    "    \n",
    "    assert yp_before_r1s == yp_ground_truth\n",
    "\n",
    "    r1_crossing_labels = has_r1(sgd)\n",
    "\n",
    "    assert len(r1_crossing_labels) == 2\n",
    "    assert 'x1' in r1_crossing_labels and 'x2' in r1_crossing_labels\n",
    "\n",
    "    sgd = apply_r1(sgd, 'x1')\n",
    "\n",
    "    yp_after_first_r1 = sgd.normalized_yamada_polynomial()\n",
    "    \n",
    "    assert yp_after_first_r1 == yp_ground_truth\n",
    "    \n",
    "    r1_crossing_labels = has_r1(sgd)\n",
    "    \n",
    "    assert len(r1_crossing_labels) == 1\n",
    "    assert 'x2' in r1_crossing_labels\n",
    "    \n",
    "    sgd = apply_r1(sgd, 'x2')\n",
    "    \n",
    "    yp_after_second_r1 = sgd.normalized_yamada_polynomial()\n",
    "    \n",
    "    assert yp_after_second_r1 == yp_ground_truth\n",
    "    \n",
    "    r1_crossing_labels = has_r1(sgd)\n",
    "    \n",
    "    assert len(r1_crossing_labels) == 0"
   ],
   "id": "3c5604afa1a5c02"
  }
 ],
 "metadata": {
  "kernelspec": {
   "display_name": "Python 3",
   "language": "python",
   "name": "python3"
  },
  "language_info": {
   "codemirror_mode": {
    "name": "ipython",
    "version": 2
   },
   "file_extension": ".py",
   "mimetype": "text/x-python",
   "name": "python",
   "nbconvert_exporter": "python",
   "pygments_lexer": "ipython2",
   "version": "2.7.6"
  }
 },
 "nbformat": 4,
 "nbformat_minor": 5
}
