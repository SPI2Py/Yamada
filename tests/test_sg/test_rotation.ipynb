{
 "cells": [
  {
   "cell_type": "markdown",
   "source": [],
   "metadata": {
    "collapsed": false
   }
  },
  {
   "cell_type": "code",
   "execution_count": 5,
   "metadata": {
    "collapsed": true
   },
   "source": [
    "import numpy as np\n",
    "from yamada.geometry import rotate"
   ],
   "outputs": []
  },
  {
   "cell_type": "markdown",
   "source": [
    "## Test Rotation"
   ],
   "metadata": {
    "collapsed": false
   }
  },
  {
   "cell_type": "markdown",
   "source": [],
   "metadata": {
    "collapsed": false
   }
  },
  {
   "cell_type": "code",
   "execution_count": null,
   "source": [
    "def test_rotation_at_origin_zero():\n",
    "\n",
    "    # Define a unit cube\n",
    "    component_positions = np.array([[0, 0, 0],  # a\n",
    "                                    [1, 0, 0],  # b\n",
    "                                    [1, 1, 0],  # c\n",
    "                                    [0, 1, 0],  # d\n",
    "\n",
    "                                    [0, 0, 1],  # e\n",
    "                                    [1, 0, 1],  # f\n",
    "                                    [1, 1, 1],  # g\n",
    "                                    [0, 1, 1]])  # h\n",
    "\n",
    "    # Rotate about the origin by 0 degrees\n",
    "    rotate_zero = np.array([0, 0, 0])\n",
    "\n",
    "    # Rotate the cube\n",
    "\n",
    "    rotated_component_positions = rotate(component_positions, rotate_zero)\n",
    "\n",
    "    expected_rotated_component_positions_zero = np.array([[0, 0, 0],  # a\n",
    "                                                          [1, 0, 0],  # b\n",
    "                                                          [1, 1, 0],  # c\n",
    "                                                          [0, 1, 0],  # d\n",
    "\n",
    "                                                          [0, 0, 1],  # e\n",
    "                                                          [1, 0, 1],  # f\n",
    "                                                          [1, 1, 1],  # g\n",
    "                                                          [0, 1, 1]])  # h\n",
    "\n",
    "    assert np.allclose(rotated_component_positions, expected_rotated_component_positions_zero)\n"
   ],
   "metadata": {
    "collapsed": false
   },
   "outputs": []
  },
  {
   "cell_type": "markdown",
   "source": [
    "Rotate 90 degrees"
   ],
   "metadata": {
    "collapsed": false
   }
  },
  {
   "cell_type": "code",
   "execution_count": null,
   "source": [
    "def test_rotation_at_origin_z_90():\n",
    "\n",
    "    # Define a unit cube\n",
    "    component_positions = np.array([[0, 0, 0],  # a\n",
    "                                    [1, 0, 0],  # b\n",
    "                                    [1, 1, 0],  # c\n",
    "                                    [0, 1, 0],  # d\n",
    "\n",
    "                                    [0, 0, 1],  # e\n",
    "                                    [1, 0, 1],  # f\n",
    "                                    [1, 1, 1],  # g\n",
    "                                    [0, 1, 1]])  # h\n",
    "\n",
    "\n",
    "    # Rotate about the z-axis by 90 degrees\n",
    "    rotate_z_90 = np.array([0, 0, np.pi/2])\n",
    "\n",
    "\n",
    "    # Rotate the cube\n",
    "\n",
    "    rotated_component_positions = rotate(component_positions, rotate_z_90)\n",
    "\n",
    "    expected_rotated_component_positions_z_90 = np.array([[0, 0, 0],  # a\n",
    "                                                          [0, 1, 0],  # b\n",
    "                                                          [-1, 1, 0],  # c\n",
    "                                                          [-1, 0, 0],  # d\n",
    "\n",
    "                                                          [0, 0, 1],  # e\n",
    "                                                          [0, 1, 1],  # f\n",
    "                                                          [-1, 1, 1],  # g\n",
    "                                                          [-1, 0, 1]])  # h\n",
    "\n",
    "    assert np.allclose(rotated_component_positions, expected_rotated_component_positions_z_90)\n",
    "\n"
   ],
   "metadata": {
    "collapsed": false
   },
   "outputs": []
  },
  {
   "cell_type": "code",
   "execution_count": null,
   "source": [
    "def test_rotation_at_origin_z_180():\n",
    "\n",
    "    # Define a unit cube\n",
    "    component_positions = np.array([[0, 0, 0],  # a\n",
    "                                    [1, 0, 0],  # b\n",
    "                                    [1, 1, 0],  # c\n",
    "                                    [0, 1, 0],  # d\n",
    "\n",
    "                                    [0, 0, 1],  # e\n",
    "                                    [1, 0, 1],  # f\n",
    "                                    [1, 1, 1],  # g\n",
    "                                    [0, 1, 1]])  # h\n",
    "\n",
    "    # Rotate about the z-axis by 180 degrees\n",
    "    rotate_z_180 = np.array([0, 0, np.pi])\n",
    "\n",
    "\n",
    "    # Rotate the cube\n",
    "\n",
    "    rotated_component_positions = rotate(component_positions, rotate_z_180)\n",
    "\n",
    "    expected_rotated_component_positions_z_180 = np.array([[0, 0, 0],  # a\n",
    "                                                           [-1, 0, 0],  # b\n",
    "                                                           [-1, -1, 0],  # c\n",
    "                                                           [0, -1, 0],  # d\n",
    "\n",
    "                                                           [0, 0, 1],  # e\n",
    "                                                           [-1, 0, 1],  # f\n",
    "                                                           [-1, -1, 1],  # g\n",
    "                                                           [0, -1, 1]])  # h\n",
    "\n",
    "    assert np.allclose(rotated_component_positions, expected_rotated_component_positions_z_180)\n"
   ],
   "metadata": {
    "collapsed": false
   },
   "outputs": []
  },
  {
   "cell_type": "code",
   "execution_count": null,
   "source": [
    "def test_rotation_at_origin_x_90():\n",
    "\n",
    "    # Define a unit cube\n",
    "    component_positions = np.array([[0, 0, 0],  # a\n",
    "                                    [1, 0, 0],  # b\n",
    "                                    [1, 1, 0],  # c\n",
    "                                    [0, 1, 0],  # d\n",
    "\n",
    "                                    [0, 0, 1],  # e\n",
    "                                    [1, 0, 1],  # f\n",
    "                                    [1, 1, 1],  # g\n",
    "                                    [0, 1, 1]])  # h\n",
    "\n",
    "    # Rotate about the x-axis by 90 degrees\n",
    "    rotate_x_90 = np.array([np.pi/2, 0, 0])\n",
    "\n",
    "    expected_rotated_component_positions_x_90 = np.array([[0, 0, 0],    # a\n",
    "                                                          [1, 0, 0],    # b\n",
    "                                                          [1, 0, 1],   # c\n",
    "                                                          [0, 0, 1],   # d\n",
    "\n",
    "                                                          [0, -1, 0],    # e\n",
    "                                                          [1, -1, 0],    # f\n",
    "                                                          [1, -1, 1],   # g\n",
    "                                                          [0, -1, 1]])  # h\n",
    "\n",
    "    # Rotate the cube\n",
    "    rotated_component_positions = rotate(component_positions, rotate_x_90)\n",
    "\n",
    "\n",
    "    assert np.allclose(rotated_component_positions, expected_rotated_component_positions_x_90)"
   ],
   "metadata": {
    "collapsed": false
   },
   "outputs": []
  },
  {
   "cell_type": "code",
   "execution_count": null,
   "source": [
    "def test_rotation_at_origin_z_90_x_90():\n",
    "\n",
    "    # Define a unit cube\n",
    "    component_positions = np.array([[0, 0, 0],  # a\n",
    "                                    [1, 0, 0],  # b\n",
    "                                    [1, 1, 0],  # c\n",
    "                                    [0, 1, 0],  # d\n",
    "\n",
    "                                    [0, 0, 1],  # e\n",
    "                                    [1, 0, 1],  # f\n",
    "                                    [1, 1, 1],  # g\n",
    "                                    [0, 1, 1]])  # h\n",
    "\n",
    "\n",
    "    rotate_x_90_z_90 = np.array([np.pi/2, 0, np.pi/2])\n",
    "\n",
    "    # Rotate the cube\n",
    "    rotated_component_positions = rotate(component_positions, rotate_x_90_z_90)\n",
    "\n",
    "    expected_rotated_component_positions_z_90_x_90 = np.array([[0, 0, 0],    # a\n",
    "                                                               [0, 1, 0],    # b\n",
    "                                                               [0, 1, 1],   # c\n",
    "                                                               [0, 0, 1],   # d\n",
    "\n",
    "                                                               [1, 0, 0],    # e\n",
    "                                                               [1, 1, 0],    # f\n",
    "                                                               [1, 1, 1],   # g\n",
    "                                                               [1, 0, 1]])  # h\n",
    "\n",
    "    assert np.allclose(rotated_component_positions, expected_rotated_component_positions_z_90_x_90)\n"
   ],
   "metadata": {
    "collapsed": false
   },
   "outputs": []
  }
 ],
 "metadata": {
  "kernelspec": {
   "display_name": "Python 3",
   "language": "python",
   "name": "python3"
  },
  "language_info": {
   "codemirror_mode": {
    "name": "ipython",
    "version": 2
   },
   "file_extension": ".py",
   "mimetype": "text/x-python",
   "name": "python",
   "nbconvert_exporter": "python",
   "pygments_lexer": "ipython2",
   "version": "2.7.6"
  }
 },
 "nbformat": 4,
 "nbformat_minor": 0
}
