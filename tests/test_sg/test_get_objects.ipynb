{
 "cells": [
  {
   "metadata": {},
   "cell_type": "code",
   "outputs": [],
   "execution_count": null,
   "source": [
    "import numpy as np\n",
    "from yamada import SpatialGraph"
   ],
   "id": "7aeda0932e49408a"
  },
  {
   "metadata": {},
   "cell_type": "markdown",
   "source": [
    "## Divide edges into sub-edges\n",
    "\n",
    "![Infinity Symbol](./images/infinity_symbol.png)\n"
   ],
   "id": "ffbef57133d76401"
  },
  {
   "metadata": {},
   "cell_type": "code",
   "outputs": [],
   "execution_count": null,
   "source": [
    "def test_get_sub_edges():\n",
    "\n",
    "    # Set rotation\n",
    "    rotation = np.array([3.44829694, 4.49366732, 3.78727399])\n",
    "\n",
    "    sg = SpatialGraph(nodes=['a', 'b', 'c', 'd'],\n",
    "                      node_positions={'a':[0, 0.5, 0],\n",
    "                                      'b': [1, 0.5, 1], \n",
    "                                      'c': [1, 0, 0], \n",
    "                                      'd': [0, 0, 1]},\n",
    "                      edges=[('a', 'b'), ('b', 'c'), ('c', 'd'), ('d', 'a')],\n",
    "                      rotation=rotation)\n",
    "\n",
    "    sep = sg.get_sub_edges()\n",
    "\n",
    "    expected_sub_edges = [('b', 'crossing_0'), ('crossing_0', 'a'), ('b', 'c'), ('d', 'crossing_0'), ('crossing_0', 'c'), ('d', 'a')]\n",
    "\n",
    "    assert sep == expected_sub_edges"
   ],
   "id": "b9d0e639847249fd"
  },
  {
   "cell_type": "code",
   "execution_count": null,
   "id": "initial_id",
   "metadata": {
    "collapsed": true
   },
   "outputs": [],
   "source": [
    "# def test_edge_order():\n",
    "#\n",
    "        # TODO Implement this\n",
    "\n",
    "#         np.random.seed(0)\n",
    "#\n",
    "#         sg = SpatialGraph(nodes=['a', 'b', 'c', 'd'],\n",
    "#                         node_positions=np.array([[0, 0.5, 0], [1, 0.5, 1], [1, 0, 0], [0, 0, 1]]),\n",
    "#                         edges=[('a', 'b'), ('b', 'c'), ('c', 'd'), ('d', 'a')])\n",
    "#\n",
    "#         edge_0 = sg.edges[0]\n",
    "#\n",
    "#         vertices_and_crossings = sg.get_vertices_and_crossings_of_edge(edge_0)\n",
    "#\n",
    "#         edge_order = [vertices_and_crossings[i][0] < vertices_and_crossings[i+1][0] for i in range(len(vertices_and_crossings)-1)]\n",
    "#\n",
    "#         assert all(edge_order)"
   ]
  }
 ],
 "metadata": {
  "kernelspec": {
   "display_name": "Python 3",
   "language": "python",
   "name": "python3"
  },
  "language_info": {
   "codemirror_mode": {
    "name": "ipython",
    "version": 2
   },
   "file_extension": ".py",
   "mimetype": "text/x-python",
   "name": "python",
   "nbconvert_exporter": "python",
   "pygments_lexer": "ipython2",
   "version": "2.7.6"
  }
 },
 "nbformat": 4,
 "nbformat_minor": 5
}
