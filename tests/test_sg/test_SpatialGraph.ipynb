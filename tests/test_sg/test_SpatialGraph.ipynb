{
 "cells": [
  {
   "cell_type": "markdown",
   "source": [],
   "metadata": {
    "collapsed": false
   }
  },
  {
   "cell_type": "code",
   "execution_count": 6,
   "source": [
    "import numpy as np\n",
    "from yamada import SpatialGraph\n"
   ],
   "metadata": {
    "collapsed": false
   },
   "outputs": []
  },
  {
   "cell_type": "markdown",
   "source": [
    "## Verifying the cyclic ordering of nodes for a vertex\n",
    "\n",
    "![Abstract Graph G5](./images/abstract_graph_G5.png)"
   ],
   "metadata": {
    "collapsed": false
   }
  },
  {
   "cell_type": "code",
   "execution_count": 7,
   "metadata": {
    "collapsed": true
   },
   "source": [
    "def test_cyclic_node_ordering_vertex():\n",
    "\n",
    "    nodes = ['a', 'b', 'c', 'd', 'e', 'f', 'g', 'h']\n",
    "    \n",
    "    node_positions = {'a': [0,0,0], 'b': [1,0,0], 'c': [0.5,1,0], 'd': [0.5,0.5,0], 'e': [0.25,0.75,0], 'f': [0.75,0.75,0], 'g': [0,1,0], 'h': [1,1,0]}\n",
    "\n",
    "    edges = [('a', 'b'), ('a', 'g'), ('a', 'd'), ('b', 'd'), ('b', 'h'), ('d', 'e'), ('d', 'f'), ('e', 'c'), ('f', 'c'), ('g', 'c'), ('h', 'c')]\n",
    "\n",
    "    # Use a predefined rotation (from a random seed) that previously produced an error\n",
    "    rotation = np.array([3.44829694, 4.49366732, 3.78727399])\n",
    "\n",
    "    sg = SpatialGraph(nodes=nodes,\n",
    "                      node_positions=node_positions,\n",
    "                      edges=edges,\n",
    "                      rotation=rotation)\n",
    "\n",
    "    order = sg.cyclic_order_vertex('c')\n",
    "    expected_order = {'c': {'e': 3, 'f': 0, 'g': 2, 'h': 1}}\n",
    "\n",
    "    assert order == expected_order\n"
   ],
   "outputs": []
  },
  {
   "cell_type": "markdown",
   "source": [
    "## Verify the cyclic ordering of nodes for a crossing\n",
    "\n",
    "Note: I've gotten tripped up with the optical illusion of which faces are in front and which are in back. The annotations show the correct orientation.\n",
    "\n",
    "Note: The\n",
    "\n",
    "![Crossing Ordering](./images/crossing_ordering.png)"
   ],
   "metadata": {
    "collapsed": false
   }
  },
  {
   "cell_type": "code",
   "execution_count": 8,
   "source": [
    "def test_cyclic_ordering_crossing():\n",
    "    # TODO Re-label these! Or Find out what the actual rotations are and update them!\n",
    "    component_a = 'comp_a'\n",
    "    component_b = 'comp_b'\n",
    "    component_c = 'comp_c'\n",
    "    component_d = 'comp_d'\n",
    "    component_e = 'comp_e'\n",
    "    component_f = 'comp_f'\n",
    "    component_g = 'comp_g'\n",
    "    component_h = 'comp_h'\n",
    "\n",
    "    waypoint_ab = 'w_ab'\n",
    "    waypoint_ad = 'w_ad'\n",
    "    waypoint_ae = 'w_ae'\n",
    "    waypoint_bc = 'w_bc'\n",
    "    waypoint_bf = 'w_bf'\n",
    "    waypoint_cd = 'w_cd'\n",
    "    waypoint_cg = 'w_cg'\n",
    "    waypoint_dh = 'w_dh'\n",
    "    waypoint_ef = 'w_ef'\n",
    "    waypoint_eh = 'w_eh'\n",
    "    waypoint_fg = 'w_fg'\n",
    "    waypoint_gh = 'w_gh'\n",
    "\n",
    "    nodes = [component_a, component_b, component_c, component_d, component_e, component_f,\n",
    "             component_g, component_h, waypoint_ab, waypoint_ad, waypoint_ae, waypoint_bc,\n",
    "             waypoint_bf, waypoint_cd, waypoint_cg, waypoint_dh, waypoint_ef, waypoint_eh,\n",
    "             waypoint_fg, waypoint_gh]\n",
    "\n",
    "    component_positions = np.array([[0, 0, 0],  # a\n",
    "                                [1, 0, 0],  # b\n",
    "                                [1, 1, 0],  # c\n",
    "                                [0, 1, 0],  # d\n",
    "                                [0, 0, 1],  # e\n",
    "                                [1, 0, 1],  # f\n",
    "                                [1, 1, 1],  # g\n",
    "                                [0, 1, 1]])  # h\n",
    "\n",
    "    waypoint_positions = np.array([[0.5, 0, 0],  # ab\n",
    "                               [0, 0.5, 0],  # ad\n",
    "                               [0, 0, 0.5],  # ae\n",
    "                               [1, 0.5, 0],  # bc\n",
    "                               [1, 0, 0.5],  # bf\n",
    "                               [0.5, 1, 0],  # cd\n",
    "                               [1, 1, 0.5],  # cg\n",
    "                               [0, 1, 0.5],  # dh\n",
    "                               [0.5, 0, 1],  # ef\n",
    "                               [0, 0.5, 1],  # eh\n",
    "                               [1, 0.5, 1],  # fg\n",
    "                               [0.5, 1, 1]])  # gh\n",
    "\n",
    "    node_positions = np.concatenate((component_positions, waypoint_positions), axis=0)\n",
    "\n",
    "    node_positions = {node: pos for node, pos in zip(nodes, node_positions)}\n",
    "\n",
    "    edges = [(component_a, waypoint_ab), (waypoint_ab, component_b),\n",
    "         (component_a, waypoint_ad), (waypoint_ad, component_d),\n",
    "         (component_a, waypoint_ae), (waypoint_ae, component_e),\n",
    "         (component_b, waypoint_bc), (waypoint_bc, component_c),\n",
    "         (component_b, waypoint_bf), (waypoint_bf, component_f),\n",
    "         (component_c, waypoint_cd), (waypoint_cd, component_d),\n",
    "         (component_c, waypoint_cg), (waypoint_cg, component_g),\n",
    "         (component_d, waypoint_dh), (waypoint_dh, component_h),\n",
    "         (component_e, waypoint_ef), (waypoint_ef, component_f),\n",
    "         (component_e, waypoint_eh), (waypoint_eh, component_h),\n",
    "         (component_f, waypoint_fg), (waypoint_fg, component_g),\n",
    "         (component_g, waypoint_gh), (waypoint_gh, component_h)]\n",
    "\n",
    "    # Define the random rotation that previously caused issues\n",
    "    rotation = np.array([3.44829694, 4.49366732, 3.78727399])\n",
    "\n",
    "    sg = SpatialGraph(nodes=nodes, \n",
    "                      node_positions=node_positions, \n",
    "                      edges=edges,\n",
    "                      rotation=rotation)\n",
    "\n",
    "    ordering_dict = sg.cyclic_order_crossings()\n",
    "\n",
    "    expected_dict = {'crossing_0': {'comp_c': 2, 'w_ef': 3, 'w_bc': 0, 'comp_f': 1},\n",
    "                     'crossing_1': {'w_cd': 0, 'w_eh': 1, 'comp_d': 2, 'comp_e': 3}}\n",
    "\n",
    "    assert ordering_dict == expected_dict\n"
   ],
   "metadata": {
    "collapsed": false
   },
   "outputs": []
  },
  {
   "cell_type": "markdown",
   "source": [
    "## Example 2\n",
    "\n",
    "![Crossing Ordering](./images/crossing_ordering_2.png)"
   ],
   "metadata": {
    "collapsed": false
   }
  },
  {
   "cell_type": "code",
   "execution_count": 9,
   "source": [
    "def test_cyclic_ordering_crossing_2():\n",
    "\n",
    "    component_a = 'comp_a'\n",
    "    component_b = 'comp_b'\n",
    "    component_c = 'comp_c'\n",
    "    component_d = 'comp_d'\n",
    "    component_e = 'comp_e'\n",
    "    component_f = 'comp_f'\n",
    "    component_g = 'comp_g'\n",
    "    component_h = 'comp_h'\n",
    "\n",
    "    waypoint_ab = 'w_ab'\n",
    "    waypoint_ad = 'w_ad'\n",
    "    waypoint_ae = 'w_ae'\n",
    "    waypoint_bc = 'w_bc'\n",
    "    waypoint_bf = 'w_bf'\n",
    "    waypoint_cd = 'w_cd'\n",
    "    waypoint_cg = 'w_cg'\n",
    "    waypoint_dh = 'w_dh'\n",
    "    waypoint_ef = 'w_ef'\n",
    "    waypoint_eh = 'w_eh'\n",
    "    waypoint_fg = 'w_fg'\n",
    "    waypoint_gh = 'w_gh'\n",
    "\n",
    "    nodes = [component_a, component_b, component_c, component_d, component_e, component_f,\n",
    "             component_g, component_h, waypoint_ab, waypoint_ad, waypoint_ae, waypoint_bc,\n",
    "             waypoint_bf, waypoint_cd, waypoint_cg, waypoint_dh, waypoint_ef, waypoint_eh,\n",
    "             waypoint_fg, waypoint_gh]\n",
    "\n",
    "    component_positions = np.array([[0, 0, 0],  # a\n",
    "                                [1, 0, 0],  # b\n",
    "                                [1, 1, 0],  # c\n",
    "                                [0, 1, 0],  # d\n",
    "                                [0, 0, 1],  # e\n",
    "                                [1, 0, 1],  # f\n",
    "                                [1, 1, 1],  # g\n",
    "                                [0, 1, 1]])  # h\n",
    "\n",
    "    waypoint_positions = np.array([[0.5, 0.1, 0],  # ab\n",
    "                                   [0.1, 0.7, 0.2],  # ad\n",
    "                                   [0.1, 0, 0.5],  # ae\n",
    "                                   [1, 0.5, 0],  # bc\n",
    "                                   [1, 0.1, 0.5],  # bf\n",
    "                                   [0.5, 1, 0],  # cd\n",
    "                                   [0.7, 0.6, 0.5],  # cg\n",
    "                                   [0.1, 1, 0.5],  # dh\n",
    "                                   [0.5, 0.1, 1],  # ef\n",
    "                                   [0.1, 0.6, 1],  # eh\n",
    "                                   [1, 0.5, 1],  # fg\n",
    "                                   [0.5, 0.95, 1]])  # gh\n",
    "\n",
    "    node_positions = np.concatenate((component_positions, waypoint_positions), axis=0)\n",
    "    \n",
    "    node_positions = {node: pos for node, pos in zip(nodes, node_positions)}\n",
    "\n",
    "    edges = [(component_a, waypoint_ab), (waypoint_ab, component_b),\n",
    "         (component_a, waypoint_ad), (waypoint_ad, component_d),\n",
    "         (component_a, waypoint_ae), (waypoint_ae, component_e),\n",
    "         (component_b, waypoint_bc), (waypoint_bc, component_c),\n",
    "         (component_b, waypoint_bf), (waypoint_bf, component_f),\n",
    "         (component_c, waypoint_cd), (waypoint_cd, component_d),\n",
    "         (component_c, waypoint_cg), (waypoint_cg, component_g),\n",
    "         (component_d, waypoint_dh), (waypoint_dh, component_h),\n",
    "         (component_e, waypoint_ef), (waypoint_ef, component_f),\n",
    "         (component_e, waypoint_eh), (waypoint_eh, component_h),\n",
    "         (component_f, waypoint_fg), (waypoint_fg, component_g),\n",
    "         (component_g, waypoint_gh), (waypoint_gh, component_h)]\n",
    "\n",
    "    # Set rotation\n",
    "    rotation = np.array([2.73943676, 0.16289932, 3.4536312 ])\n",
    "\n",
    "    sg = SpatialGraph(nodes=nodes, \n",
    "                      node_positions=node_positions, \n",
    "                      edges=edges,\n",
    "                      rotation=rotation)\n",
    "\n",
    "    ordering_dict = sg.cyclic_order_crossings()\n",
    "\n",
    "    expected_dict = {'crossing_0': {'comp_a': 1, 'comp_d': 2, 'w_ab': 3,   'w_dh': 0},\n",
    "                     'crossing_1': {'comp_b': 1, 'comp_c': 2, 'crossing_2': 3,   'w_cg': 0},\n",
    "                     'crossing_2': {'w_cg': 0,   'crossing_1': 1, 'comp_g': 2, 'w_bf': 3},\n",
    "                     'crossing_3': {'w_gh': 0,   'w_bf': 1,   'comp_g': 2, 'comp_f': 3}}\n",
    "\n",
    "    assert ordering_dict == expected_dict"
   ],
   "metadata": {
    "collapsed": false
   },
   "outputs": []
  },
  {
   "cell_type": "markdown",
   "source": [
    "## Example 3"
   ],
   "metadata": {
    "collapsed": false
   }
  },
  {
   "cell_type": "markdown",
   "source": [
    "![Crossing Ordering](./images/crossing_ordering_3.png)"
   ],
   "metadata": {
    "collapsed": false
   }
  },
  {
   "cell_type": "markdown",
   "source": [
    "## Divide edges into sub-edges\n",
    "\n",
    "![Infinity Symbol](./images/infinity_symbol.png)\n",
    "\n"
   ],
   "metadata": {
    "collapsed": false
   }
  },
  {
   "cell_type": "code",
   "execution_count": 11,
   "source": [
    "def test_get_sub_edges():\n",
    "\n",
    "    # Set rotation\n",
    "    rotation = np.array([3.44829694, 4.49366732, 3.78727399])\n",
    "\n",
    "    sg = SpatialGraph(nodes=['a', 'b', 'c', 'd'],\n",
    "                      node_positions={'a':[0, 0.5, 0],\n",
    "                                      'b': [1, 0.5, 1], \n",
    "                                      'c': [1, 0, 0], \n",
    "                                      'd': [0, 0, 1]},\n",
    "                      edges=[('a', 'b'), ('b', 'c'), ('c', 'd'), ('d', 'a')],\n",
    "                      rotation=rotation)\n",
    "\n",
    "    sep = sg.get_sub_edges()\n",
    "\n",
    "    expected_sub_edges = [('b', 'crossing_0'), ('crossing_0', 'a'), ('b', 'c'), ('d', 'crossing_0'), ('crossing_0', 'c'), ('d', 'a')]\n",
    "\n",
    "    assert sep == expected_sub_edges"
   ],
   "metadata": {
    "collapsed": false
   },
   "outputs": []
  },
  {
   "cell_type": "code",
   "execution_count": 11,
   "source": [
    "# def test_edge_order():\n",
    "#\n",
    "        # TODO Implement this\n",
    "\n",
    "#         np.random.seed(0)\n",
    "#\n",
    "#         sg = SpatialGraph(nodes=['a', 'b', 'c', 'd'],\n",
    "#                         node_positions=np.array([[0, 0.5, 0], [1, 0.5, 1], [1, 0, 0], [0, 0, 1]]),\n",
    "#                         edges=[('a', 'b'), ('b', 'c'), ('c', 'd'), ('d', 'a')])\n",
    "#\n",
    "#         edge_0 = sg.edges[0]\n",
    "#\n",
    "#         vertices_and_crossings = sg.get_vertices_and_crossings_of_edge(edge_0)\n",
    "#\n",
    "#         edge_order = [vertices_and_crossings[i][0] < vertices_and_crossings[i+1][0] for i in range(len(vertices_and_crossings)-1)]\n",
    "#\n",
    "#         assert all(edge_order)"
   ],
   "metadata": {
    "collapsed": false
   },
   "outputs": []
  }
 ],
 "metadata": {
  "kernelspec": {
   "display_name": "Python 3",
   "language": "python",
   "name": "python3"
  },
  "language_info": {
   "codemirror_mode": {
    "name": "ipython",
    "version": 2
   },
   "file_extension": ".py",
   "mimetype": "text/x-python",
   "name": "python",
   "nbconvert_exporter": "python",
   "pygments_lexer": "ipython2",
   "version": "2.7.6"
  }
 },
 "nbformat": 4,
 "nbformat_minor": 0
}
