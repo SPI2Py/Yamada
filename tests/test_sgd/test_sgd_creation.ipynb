{
 "cells": [
  {
   "cell_type": "code",
   "execution_count": null,
   "id": "initial_id",
   "metadata": {
    "collapsed": true
   },
   "outputs": [],
   "source": [
    "# TODO Add\n",
    "\n",
    "\n",
    "# e1, e2, e3, e4, e5, e6 = Edge(1), Edge(2), Edge(3), Edge(4), Edge(5), Edge(6)\n",
    "#\n",
    "# v1 = Vertex(degree=2, label=\"v1\")\n",
    "# v2 = Vertex(degree=2, label=\"v2\")\n",
    "# v3 = Vertex(degree=2, label=\"v3\")\n",
    "# v4 = Vertex(degree=2, label=\"v4\")\n",
    "# v5 = Vertex(degree=2, label=\"v5\")\n",
    "# v6 = Vertex(degree=2, label=\"v6\")\n",
    "#\n",
    "# x1 = Crossing(\"x1\")\n",
    "\n",
    "# Test 2E 2V\n",
    "# e1[0] = v1[0]\n",
    "# e1[1] = v2[0]\n",
    "# e2[0] = v1[1]\n",
    "# e2[1] = v2[1]\n",
    "# sgd = SpatialGraphDiagram([e1, e2, v1, v2])\n",
    "\n",
    "# # Test 3E 3V\n",
    "# e1[0] = v1[0]\n",
    "# v1[1] = e2[0]\n",
    "# e2[1] = v2[0]\n",
    "# v2[1] = e3[0]\n",
    "# e3[1] = v3[0]\n",
    "# v3[1] = e1[1]\n",
    "# sgd = SpatialGraphDiagram([e1, e2, e3, v1, v2, v3])\n",
    "\n",
    "\n",
    "# # Test 4E 3V 1C\n",
    "# e1[0] = x1[0]\n",
    "# e1[1] = v1[0]\n",
    "# v1[1] = e2[0]\n",
    "# e2[1] = v2[0]\n",
    "# v2[1] = e3[0]\n",
    "# e3[1] = x1[1]\n",
    "# x1[3] = e4[0]\n",
    "# e4[1] = x1[2]\n",
    "# sgd = SpatialGraphDiagram([e1, e2, e3, e4, v1, v2, x1])\n",
    "# sgd.normalized_yamada_polynomial()\n",
    "\n",
    "\n",
    "\n",
    "# test 4\n",
    "# e1[0] = v5[0]  # e1[0] = x1[0]\n",
    "# e1[1] = v1[0]\n",
    "# v1[1] = e2[0]\n",
    "# e2[1] = v2[0]\n",
    "# v2[1] = e3[0]\n",
    "# e3[1] = v5[1]  # e3[1] = x1[1]\n",
    "# v6[0] = e4[0]  # x1[3] = e4[0]\n",
    "# e2[1] = x1[0]  # e4[1] = x1[2]\n",
    "# sgd = SpatialGraphDiagram([e1, e2, e3, e4, e5, e6, v1, v2, v2, v3, v4, v5, v6])"
   ]
  }
 ],
 "metadata": {
  "kernelspec": {
   "display_name": "Python 3",
   "language": "python",
   "name": "python3"
  },
  "language_info": {
   "codemirror_mode": {
    "name": "ipython",
    "version": 2
   },
   "file_extension": ".py",
   "mimetype": "text/x-python",
   "name": "python",
   "nbconvert_exporter": "python",
   "pygments_lexer": "ipython2",
   "version": "2.7.6"
  }
 },
 "nbformat": 4,
 "nbformat_minor": 5
}
