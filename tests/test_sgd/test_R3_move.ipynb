{
 "cells": [
  {
   "cell_type": "code",
   "execution_count": 6,
   "id": "initial_id",
   "metadata": {
    "collapsed": true,
    "ExecuteTime": {
     "end_time": "2024-02-28T18:20:52.523734400Z",
     "start_time": "2024-02-28T18:20:52.502323400Z"
    }
   },
   "source": [
    "from cypari import pari\n",
    "from yamada import SpatialGraphDiagram, Vertex, Edge, Crossing, has_r3, apply_r3"
   ],
   "outputs": []
  },
  {
   "cell_type": "markdown",
   "source": [
    "# The Reidemeister 3 Move\n",
    "\n",
    "# Prerequisites:\n",
    "1. The SGD has at least one face whose 3 vertices are crossings.\n",
    "2. The candidate face has at least one edge that pass completely under or over the other two edges.\n",
    "\n",
    "\n",
    "# Algorithm:\n",
    "1. Identify the candidate face for the R3 move.\n",
    "    - If there is more than one face that satisfies the R3 prerequisites, then choose one (TODO Implement choosing logic).\n",
    "\n",
    "2. Identify the candidate edge for the R3 move.\n",
    "    - If the chosen face as more than one edge that passes completely under or over the other two edges, choose one (TODO Implement choosing logic).\n",
    "\n",
    "3. Label each vertex and edge of the candidate face.\n",
    "    - The R3 moves one edge across its opposing vertex. \n",
    "    - The chosen edge will be called the \"moving\" or \"opposite\" edge since it will move across the opposing vertex.\n",
    "    - The vertex opposing the moving edge will be called the \"keep\" crossing since it will remain in place.\n",
    "    - The two edges adjacent to the keep crossing will be called \"common\" edges (as opposed to the opposing edge).\n",
    "    - The two other crossings will be called \"remove\" crossings since moving the opposite edge will remove these crossings (and introduce two new crossings on the other side of the keep crossing).\n",
    "\n",
    "4. Identify how edge and crossing indices will change by the R3 move.\n",
    "    - The moving edge intersects with two keep crossing edges. The R3 move will cause it to intersect the opposite two edges (i... ).\n",
    "    - When we remove the two remove crossings, two edges represent the moving edge and will be moved by the R3 move. The other two edges must spliced together.\n",
    "    - ...\n",
    "\n",
    "5. Perform the R3 move.\n",
    "    - Delete the two edges that do not move.\n",
    "    - Connect ...\n",
    "    - Shift the two move crossings\n",
    "    - Add new edges...\n",
    "    - \n",
    "\n",
    "\n"
   ],
   "metadata": {
    "collapsed": false
   },
   "id": "b5b5f4a598165dc0"
  },
  {
   "metadata": {},
   "cell_type": "markdown",
   "source": "",
   "id": "7988c5f01e4098b8"
  },
  {
   "cell_type": "markdown",
   "source": [
    "![R3 Move](./images/r3_before_move.png)"
   ],
   "metadata": {
    "collapsed": false
   },
   "id": "5830910e07086758"
  },
  {
   "cell_type": "code",
   "source": [
    "def pre_r3():\n",
    "\n",
    "    x0 = Crossing('x0')\n",
    "    x1 = Crossing('x1')\n",
    "    x2 = Crossing('x2')\n",
    "    x3 = Crossing('x3')\n",
    "    x4 = Crossing('x4')\n",
    "\n",
    "    e0 = Edge('e0')\n",
    "    e1 = Edge('e1')\n",
    "    e2 = Edge('e2')\n",
    "    e3 = Edge('e3')\n",
    "    e4 = Edge('e4')\n",
    "    e5 = Edge('e5')\n",
    "    e6 = Edge('e6')\n",
    "    e7 = Edge('e7')\n",
    "    e8 = Edge('e8')\n",
    "    e9 = Edge('e9')\n",
    "\n",
    "    x0[0] = e0[0]\n",
    "    x0[1] = e3[0]\n",
    "    x0[2] = e2[0]\n",
    "    x0[3] = e1[0]\n",
    "\n",
    "    x1[0] = e4[1]\n",
    "    x1[1] = e0[1]\n",
    "    x1[2] = e5[0]\n",
    "    x1[3] = e8[0]\n",
    "\n",
    "    x2[0] = e5[1]\n",
    "    x2[1] = e1[1]\n",
    "    x2[2] = e6[1]\n",
    "    x2[3] = e8[1]\n",
    "\n",
    "    x3[0] = e7[1]\n",
    "    x3[1] = e9[1]\n",
    "    x3[2] = e6[0]\n",
    "    x3[3] = e2[1]\n",
    "\n",
    "    x4[0] = e4[0]\n",
    "    x4[1] = e9[0]\n",
    "    x4[2] = e7[0]\n",
    "    x4[3] = e3[1]\n",
    "\n",
    "    sgd = SpatialGraphDiagram([x0, x1, x2, x3, x4, e0, e1, e2, e3, e4, e5, e6, e7, e8, e9])\n",
    "\n",
    "    return sgd"
   ],
   "metadata": {
    "collapsed": false,
    "ExecuteTime": {
     "end_time": "2024-02-28T18:20:52.546773900Z",
     "start_time": "2024-02-28T18:20:52.530242600Z"
    }
   },
   "id": "48322b49dd84090a",
   "execution_count": 8,
   "outputs": []
  },
  {
   "cell_type": "markdown",
   "source": [
    "![R3 Move](./images/r3_after_move.png)"
   ],
   "metadata": {
    "collapsed": false
   },
   "id": "210c845ded7b0fe7"
  },
  {
   "cell_type": "code",
   "source": [
    "def post_r3():\n",
    "\n",
    "    x0 = Crossing('x0')\n",
    "    x1 = Crossing('x1')\n",
    "    x2 = Crossing('x2')\n",
    "    x3 = Crossing('x3')\n",
    "    x4 = Crossing('x4')\n",
    "\n",
    "    e0 = Edge('e0')\n",
    "    e1 = Edge('e1')\n",
    "    e2 = Edge('e2')\n",
    "    e3 = Edge('e3')\n",
    "    e4 = Edge('e4')\n",
    "    e5 = Edge('e5')\n",
    "    e6 = Edge('e6')\n",
    "    e7 = Edge('e7')\n",
    "    e8 = Edge('e8')\n",
    "    e9 = Edge('e9')\n",
    "    er1 = Edge('er1')\n",
    "    er2 = Edge('er2')\n",
    "\n",
    "    x0[0] = er1[0]\n",
    "    x0[1] = er2[0]\n",
    "    x0[2] = e2[0]\n",
    "    x0[3] = e1[0]\n",
    "\n",
    "    x1[0] = e4[1]\n",
    "    x1[1] = e0[1]\n",
    "    x1[2] = e5[0]\n",
    "    x1[3] = e8[0]\n",
    "\n",
    "    x2[0] = e5[1]\n",
    "    x2[1] = e0[0]\n",
    "    x2[2] = e6[1]\n",
    "    x2[3] = er1[1]\n",
    "\n",
    "    x3[0] = e7[1]\n",
    "    x3[1] = er2[1]\n",
    "    x3[2] = e6[0]\n",
    "    x3[3] = e3[0]\n",
    "\n",
    "    x4[0] = e4[0]\n",
    "    x4[1] = e9[0]\n",
    "    x4[2] = e7[0]\n",
    "    x4[3] = e3[1]\n",
    "\n",
    "    e1[1] = e8[1]\n",
    "    e2[1] = e9[1]\n",
    "\n",
    "    sgd = SpatialGraphDiagram([x0, x1, x2, x3, x4, e0, e1, e2, e3, e4, e5, e6, e7, e8, e9, er1, er2])\n",
    "\n",
    "    return sgd"
   ],
   "metadata": {
    "collapsed": false,
    "ExecuteTime": {
     "end_time": "2024-02-28T18:20:52.561089500Z",
     "start_time": "2024-02-28T18:20:52.546773900Z"
    }
   },
   "id": "ca9cd4c50a586117",
   "execution_count": 9,
   "outputs": []
  },
  {
   "cell_type": "code",
   "source": [
    "def test_r3():\n",
    "    a = pari('A')\n",
    "    \n",
    "    sgd = pre_r3()\n",
    "\n",
    "    yp1 = sgd.normalized_yamada_polynomial()\n",
    "\n",
    "    pre_r3_has_r3, _ = has_r3(sgd)\n",
    "    assert pre_r3_has_r3\n",
    "\n",
    "    # Hard-coded demo\n",
    "    stationary_crossing = 'x0'\n",
    "    moving_crossing_1 = 'x3'\n",
    "    moving_crossing_2 = 'x2'\n",
    "    crossing_edge = 'e6'\n",
    "    stationary_edge_1 = 'e2'\n",
    "    stationary_edge_2 = 'e1'\n",
    "    r3_input = {\n",
    "        'stationary_crossing': stationary_crossing,\n",
    "        'moving_crossing_1': moving_crossing_1,\n",
    "        'moving_crossing_2': moving_crossing_2,\n",
    "        'crossing_edge': crossing_edge,\n",
    "        'stationary_edge_1': stationary_edge_1,\n",
    "        'stationary_edge_2': stationary_edge_2\n",
    "    }\n",
    "\n",
    "    sgd_r3 = apply_r3(sgd, r3_input)\n",
    "\n",
    "    yp2 = sgd_r3.normalized_yamada_polynomial()\n",
    "    \n",
    "    assert yp1 == yp2\n",
    "    \n",
    "    post_r3_has_r3, _ = has_r3(sgd_r3)\n",
    "    assert post_r3_has_r3\n",
    "    "
   ],
   "metadata": {
    "collapsed": false,
    "ExecuteTime": {
     "end_time": "2024-02-28T18:20:52.577109900Z",
     "start_time": "2024-02-28T18:20:52.562092300Z"
    }
   },
   "id": "4803b06f12b3cda0",
   "execution_count": 10,
   "outputs": []
  },
  {
   "metadata": {},
   "cell_type": "markdown",
   "source": "",
   "id": "d5a45a8be6471a12"
  },
  {
   "metadata": {},
   "cell_type": "code",
   "outputs": [],
   "execution_count": null,
   "source": "# TODO, add simple example that repeats the R3 move back and forth n times, checks original inputs",
   "id": "fd4bb2e846b9bc05"
  },
  {
   "metadata": {},
   "cell_type": "code",
   "outputs": [],
   "execution_count": null,
   "source": "",
   "id": "9590d255f5e93913"
  }
 ],
 "metadata": {
  "kernelspec": {
   "display_name": "Python 3",
   "language": "python",
   "name": "python3"
  },
  "language_info": {
   "codemirror_mode": {
    "name": "ipython",
    "version": 2
   },
   "file_extension": ".py",
   "mimetype": "text/x-python",
   "name": "python",
   "nbconvert_exporter": "python",
   "pygments_lexer": "ipython2",
   "version": "2.7.6"
  }
 },
 "nbformat": 4,
 "nbformat_minor": 5
}
