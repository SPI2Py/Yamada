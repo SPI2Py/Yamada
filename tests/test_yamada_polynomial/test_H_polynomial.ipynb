{
 "cells": [
  {
   "attachments": {},
   "cell_type": "markdown",
   "metadata": {},
   "source": [
    "## Importing the necessary functions"
   ]
  },
  {
   "cell_type": "code",
   "execution_count": 20,
   "metadata": {},
   "outputs": [],
   "source": [
    "import networkx as nx\n",
    "from cypari import pari\n",
    "from yamada import h_poly\n"
   ]
  },
  {
   "cell_type": "markdown",
   "source": [
    "## H Polynomials\n",
    "\n"
   ],
   "metadata": {
    "collapsed": false
   }
  },
  {
   "cell_type": "markdown",
   "source": [],
   "metadata": {
    "collapsed": false
   }
  },
  {
   "cell_type": "code",
   "execution_count": 21,
   "outputs": [],
   "source": [
    "def test_h_poly_1():\n",
    "    g = nx.barbell_graph(3, 0)\n",
    "    assert h_poly(g) == 0"
   ],
   "metadata": {
    "collapsed": false
   }
  },
  {
   "cell_type": "markdown",
   "source": [],
   "metadata": {
    "collapsed": false
   }
  },
  {
   "cell_type": "code",
   "execution_count": 22,
   "outputs": [],
   "source": [
    "def test_h_poly_2():\n",
    "    a = pari('A')\n",
    "    assert h_poly(nx.MultiGraph([(0, 0)])) == (a ** 2 + a + 1) / a"
   ],
   "metadata": {
    "collapsed": false
   }
  },
  {
   "cell_type": "markdown",
   "source": [],
   "metadata": {
    "collapsed": false
   }
  },
  {
   "cell_type": "code",
   "execution_count": 23,
   "outputs": [],
   "source": [
    "def test_h_poly_3():\n",
    "    a = pari('A')\n",
    "    assert h_poly(nx.MultiGraph([(0, 1), (1, 2), (2, 0)])) == (a ** 2 + a + 1) / a"
   ],
   "metadata": {
    "collapsed": false
   }
  },
  {
   "cell_type": "markdown",
   "source": [],
   "metadata": {
    "collapsed": false
   }
  },
  {
   "cell_type": "code",
   "execution_count": 24,
   "outputs": [],
   "source": [
    "def test_h_poly_4():\n",
    "    a = pari('A')\n",
    "    g = nx.MultiGraph([(0, 0), (0, 0)])\n",
    "    assert -h_poly(g) == (a ** 4 + 2 * a ** 3 + 3 * a ** 2 + 2 * a + 1) / a ** 2"
   ],
   "metadata": {
    "collapsed": false
   }
  },
  {
   "cell_type": "markdown",
   "source": [],
   "metadata": {
    "collapsed": false
   }
  },
  {
   "cell_type": "code",
   "execution_count": 25,
   "outputs": [],
   "source": [
    "def test_h_poly_5():\n",
    "    a = pari('A')\n",
    "    theta = nx.MultiGraph(3 * [(0, 1)])\n",
    "    assert -h_poly(theta) == (a ** 4 + a ** 3 + 2 * a ** 2 + a + 1) / a ** 2"
   ],
   "metadata": {
    "collapsed": false
   }
  },
  {
   "cell_type": "markdown",
   "source": [],
   "metadata": {
    "collapsed": false
   }
  },
  {
   "cell_type": "code",
   "execution_count": 26,
   "outputs": [],
   "source": [
    "def test_h_poly_6():\n",
    "    a = pari('A')\n",
    "    g = nx.MultiGraph([(0, 0), (1, 1)])\n",
    "    assert h_poly(g) == (a ** 4 + 2 * a ** 3 + 3 * a ** 2 + 2 * a + 1) / a ** 2"
   ],
   "metadata": {
    "collapsed": false
   }
  },
  {
   "cell_type": "markdown",
   "source": [],
   "metadata": {
    "collapsed": false
   }
  },
  {
   "cell_type": "code",
   "execution_count": 27,
   "outputs": [],
   "source": [
    "def test_h_poly_7():\n",
    "    a = pari('A')\n",
    "    g = nx.MultiGraph([(0, 1), (0, 1), (2, 3), (2, 3), (0, 2), (1, 3)])\n",
    "    assert h_poly(g) == (a ** 6 + a ** 5 + 3 * a ** 4 + 2 * a ** 3 + 3 * a ** 2 + a + 1) / a ** 3"
   ],
   "metadata": {
    "collapsed": false
   }
  },
  {
   "cell_type": "markdown",
   "source": [
    "## Abstract Graph G1\n",
    "\n",
    "![Abstract Graph G1](./images/abstract_graphs/abstract_graph_G1.png)\n",
    "\n",
    "The graph G1 from Drobrynin and Vesnin."
   ],
   "metadata": {
    "collapsed": false
   }
  },
  {
   "cell_type": "code",
   "execution_count": 28,
   "outputs": [],
   "source": [
    "def test_h_poly_g1():\n",
    "\n",
    "    g1 = nx.MultiGraph()\n",
    "    g1.add_nodes_from(['a', 'b', 'c'])\n",
    "    g1.add_edges_from([('a', 'b'), ('a', 'c'), ('a', 'c'), ('b', 'c')])\n",
    "\n",
    "    a = pari('A')\n",
    "    paper_h_poly = -a ** 2 - a - 2 - a ** (-1) - a ** (-2)\n",
    "\n",
    "    assert h_poly(g1) == paper_h_poly\n"
   ],
   "metadata": {
    "collapsed": false
   }
  },
  {
   "cell_type": "markdown",
   "source": [
    "## Abstract Graph G2\n",
    "\n",
    "![Abstract Graph G2](./images/abstract_graphs/abstract_graph_G2.png)\n",
    "\n",
    "The graph G2 from Drobrynin and Vesnin.\n",
    "\n",
    "The paper's solution contains errors. The expected H polynomial was calculated by hand by Professor Nathan Dunfield."
   ],
   "metadata": {
    "collapsed": false
   }
  },
  {
   "cell_type": "markdown",
   "source": [],
   "metadata": {
    "collapsed": false
   }
  },
  {
   "cell_type": "code",
   "execution_count": 29,
   "outputs": [],
   "source": [
    "def test_h_poly_g2():\n",
    "\n",
    "    g2 = nx.MultiGraph()\n",
    "    g2.add_nodes_from(['a', 'b', 'c'])\n",
    "    g2.add_edges_from([('a', 'b'), ('a', 'c'), ('a', 'c'), ('b', 'c'), ('b', 'b')])\n",
    "\n",
    "    a = pari('A')\n",
    "\n",
    "    # paper_h_poly = -a**3 - 2*a**2 - 4*a - 4 -4*a**(-1) - 2*a**(-3) - a**(-3)\n",
    "    expected_h_poly = (a**6 + 2*a**5 + 4*a**4 + 4*a**3 + 4*a**2 + 2*a + 1 )/a**3\n",
    "\n",
    "    assert h_poly(g2) == expected_h_poly\n"
   ],
   "metadata": {
    "collapsed": false
   }
  },
  {
   "cell_type": "markdown",
   "source": [
    "## Abstract Graph G3\n",
    "\n",
    "![Abstract Graph G3](./images/abstract_graphs/abstract_graph_G3.png)\n",
    "\n",
    "The graph G3 from Drobrynin and Vesnin.\n",
    "\n",
    "The paper's solution contains errors. The expected H polynomial was calculated by hand by Professor Nathan Dunfield."
   ],
   "metadata": {
    "collapsed": false
   }
  },
  {
   "cell_type": "code",
   "execution_count": 30,
   "outputs": [],
   "source": [
    "def test_h_poly_g3():\n",
    "\n",
    "    g3 = nx.MultiGraph()\n",
    "    g3.add_nodes_from(['a', 'b', 'c'])\n",
    "    g3.add_edges_from([('a', 'b'), ('a', 'b'), ('a', 'c'), ('b', 'c'), ('b', 'c')])\n",
    "\n",
    "    a = pari('A')\n",
    "\n",
    "    # paper_h_poly = a**3 + 3*a**2 + 7*a + 8 + 7*a**(-1) + 3*a**(-2) + a**(-3)\n",
    "    expected_h_poly = (a**6 + a**5 + 3*a**4 + 2*a**3 + 3*a**2 + a + 1)/a**3\n",
    "\n",
    "    assert h_poly(g3) == expected_h_poly\n"
   ],
   "metadata": {
    "collapsed": false
   }
  },
  {
   "cell_type": "markdown",
   "source": [
    "## Abstract Graph G4\n",
    "\n",
    "![Abstract Graph G4](./images/abstract_graphs/abstract_graph_G4.png)\n",
    "\n",
    "The graph G4 from Drobrynin and Vesnin.\n",
    "\n",
    "The paper's solution contains errors. The expected H polynomial was calculated by hand by Professor Nathan Dunfield."
   ],
   "metadata": {
    "collapsed": false
   }
  },
  {
   "cell_type": "code",
   "execution_count": 31,
   "outputs": [],
   "source": [
    "def test_h_poly_g4():\n",
    "\n",
    "    g4 = nx.MultiGraph()\n",
    "    g4.add_nodes_from(['a', 'b', 'c', 'd'])\n",
    "    g4.add_edges_from([('a', 'b'), ('a', 'c'), ('a', 'd'), ('b', 'c'), ('b', 'd'), ('c', 'd')])\n",
    "\n",
    "    a = pari('A')\n",
    "\n",
    "    # paper_h_poly = a**3 - 4*a**2 - 10*a + 12 - 10*a**(-1) + 4*a**(-2) - a**(-3)\n",
    "    expected_h_poly = (a**6 + 2*a**4 + 2*a**2 + 1)/a**3\n",
    "\n",
    "    assert h_poly(g4) == expected_h_poly\n"
   ],
   "metadata": {
    "collapsed": false
   }
  },
  {
   "cell_type": "markdown",
   "source": [
    "## Abstract Graph G5\n",
    "\n",
    "![Abstract Graph G5](./images/abstract_graphs/abstract_graph_G5.png)\n",
    "\n",
    "The graph G5 from Drobrynin and Vesnin.\n",
    "\n",
    "The paper's solution contains errors. The expected H polynomial was calculated by hand by Professor Nathan Dunfield."
   ],
   "metadata": {
    "collapsed": false
   }
  },
  {
   "cell_type": "code",
   "execution_count": 32,
   "outputs": [],
   "source": [
    "def test_h_poly_g5():\n",
    "\n",
    "    g5 = nx.MultiGraph()\n",
    "    g5.add_nodes_from(['a', 'b', 'c', 'd'])\n",
    "    g5.add_edges_from([('a', 'c'), ('a', 'd'), ('a', 'b'), ('b', 'c'), ('b', 'd'), ('c', 'd'), ('c', 'd')])\n",
    "\n",
    "    a = pari('A')\n",
    "    # paper_h_poly = -a**4 - 3*a**3 - 7*a**2 - 8*a - 10 - 8*a**(-1) - 7*a**(-2) - 3*a**(-3) - a**(-4)\n",
    "    expected_h_poly = (-a**8 - a**7 - 5*a**6 - 4*a**5 -  8*a**4 - 4*a**3 - 5*a**2 - a- 1)/a**4\n",
    "\n",
    "    assert h_poly(g5) == expected_h_poly\n"
   ],
   "metadata": {
    "collapsed": false
   }
  }
 ],
 "metadata": {
  "kernelspec": {
   "display_name": "venv",
   "language": "python",
   "name": "python3"
  },
  "language_info": {
   "codemirror_mode": {
    "name": "ipython",
    "version": 3
   },
   "file_extension": ".py",
   "mimetype": "text/x-python",
   "name": "python",
   "nbconvert_exporter": "python",
   "pygments_lexer": "ipython3",
   "version": "3.10.9 (tags/v3.10.9:1dd9be6, Dec  6 2022, 20:01:21) [MSC v.1934 64 bit (AMD64)]"
  },
  "orig_nbformat": 4,
  "vscode": {
   "interpreter": {
    "hash": "1db9398ee49eef1bd8a9b288bd45376255f620050e688400ab54b9a87d7d0f89"
   }
  }
 },
 "nbformat": 4,
 "nbformat_minor": 2
}
