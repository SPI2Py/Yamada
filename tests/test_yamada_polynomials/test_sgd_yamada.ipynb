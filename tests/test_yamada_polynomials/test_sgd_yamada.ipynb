{
 "cells": [
  {
   "cell_type": "code",
   "execution_count": 10,
   "metadata": {
    "collapsed": true
   },
   "source": [
    "import networkx as nx\n",
    "from cypari import pari\n",
    "from yamada import has_cut_edge, remove_valence_two_vertices, h_poly, SpatialGraphDiagram, Vertex, Edge, \\\n",
    "    Crossing, normalize_yamada_polynomial\n"
   ],
   "outputs": []
  },
  {
   "cell_type": "markdown",
   "source": [],
   "metadata": {
    "collapsed": false
   }
  },
  {
   "cell_type": "code",
   "execution_count": 11,
   "source": [
    "def test_spatial_graph_diagram_unknotted_theta_graph_1():\n",
    "\n",
    "    va, vb = Vertex(3, 'a'), Vertex(3, 'b')\n",
    "    e0, e1, e2 = Edge(0), Edge(1), Edge(2)\n",
    "    va[0], va[1], va[2] = e0[0], e1[0], e2[0]\n",
    "    vb[0], vb[1], vb[2] = e0[1], e2[1], e1[1]\n",
    "    sgd = SpatialGraphDiagram([va, vb, e0, e1, e2])\n",
    "\n",
    "    assert len(sgd.crossings) == 0\n",
    "    assert len(sgd.vertices) == 2\n",
    "\n",
    "    g = sgd.projection_graph()\n",
    "    t = nx.MultiGraph(3 * [(0, 1)])\n",
    "\n",
    "    assert nx.is_isomorphic(remove_valence_two_vertices(g), t)"
   ],
   "metadata": {
    "collapsed": false
   },
   "outputs": []
  },
  {
   "cell_type": "markdown",
   "source": [],
   "metadata": {
    "collapsed": false
   }
  },
  {
   "cell_type": "code",
   "execution_count": 12,
   "source": [
    "def test_spatial_graph_diagram_unknotted_theta_graph_2():\n",
    "\n",
    "    va, vb = Vertex(3, 'a'), Vertex(3, 'b')\n",
    "\n",
    "    e0, e1, e2 = Edge(0), Edge(1), Edge(2)\n",
    "\n",
    "    va[0], va[1], va[2] = e0[0], e1[0], e2[0]\n",
    "    vb[0], vb[1], vb[2] = e0[1], e2[1], e1[1]\n",
    "\n",
    "    sgd = SpatialGraphDiagram([va, vb, e0, e1, e2])\n",
    "\n",
    "    g = sgd.projection_graph()\n",
    "    t = nx.MultiGraph(3 * [(0, 1)])\n",
    "\n",
    "    assert nx.is_isomorphic(remove_valence_two_vertices(g), t)"
   ],
   "metadata": {
    "collapsed": false
   },
   "outputs": []
  },
  {
   "cell_type": "markdown",
   "source": [
    "## Unknotted Theta Graph 1\n",
    "\n",
    "![Unknotted Theta Graph](./images/theta_graphs/unknotted_theta_graph.png)\n"
   ],
   "metadata": {
    "collapsed": false
   }
  },
  {
   "cell_type": "code",
   "execution_count": 13,
   "source": [
    "def test_yamada_polynomial_unknotted_theta_graph_1():\n",
    "\n",
    "    a = pari('A')\n",
    "\n",
    "    va, vb = Vertex(3, 'a'), Vertex(3, 'b')\n",
    "\n",
    "    e0, e1, e2 = Edge(0), Edge(1), Edge(2)\n",
    "\n",
    "    va[0], va[1], va[2] = e0[0], e1[0], e2[0]\n",
    "    vb[0], vb[1], vb[2] = e0[1], e2[1], e1[1]\n",
    "\n",
    "    sgd = SpatialGraphDiagram([va, vb, e0, e1, e2])\n",
    "\n",
    "    t = nx.MultiGraph(3 * [(0, 1)])\n",
    "\n",
    "    assert sgd.yamada_polynomial() == h_poly(t)\n",
    "\n",
    "    assert sgd.normalized_yamada_polynomial() == normalize_yamada_polynomial(-a ** 4 - a ** 3 - 2 * a ** 2 - a - 1)"
   ],
   "metadata": {
    "collapsed": false
   },
   "outputs": []
  },
  {
   "cell_type": "markdown",
   "source": [
    "## Unknotted Theta Graph 1 Alternate\n",
    "\n",
    "![Unknotted Theta Graph](./images/theta_graphs/unknotted_theta_graph_alternate.png)"
   ],
   "metadata": {
    "collapsed": false
   }
  },
  {
   "cell_type": "code",
   "execution_count": 14,
   "source": [
    "def test_yamada_polynomial_unknotted_theta_graph_2():\n",
    "\n",
    "    a = pari('A')\n",
    "\n",
    "    va, vb = Vertex(3, 'A'), Vertex(3, 'B')\n",
    "    vc, vd = Vertex(2, 'C'), Vertex(2, 'D')\n",
    "\n",
    "    va[1] = vc[0]\n",
    "    va[0] = vb[1]\n",
    "    va[2] = vd[0]\n",
    "\n",
    "    vb[0] = vc[1]\n",
    "    vb[2] = vd[1]\n",
    "\n",
    "    sgd = SpatialGraphDiagram([va, vb, vc, vd])\n",
    "\n",
    "    assert sgd.normalized_yamada_polynomial() == normalize_yamada_polynomial(-a ** 4 - a ** 3 - 2 * a ** 2 - a - 1)"
   ],
   "metadata": {
    "collapsed": false
   },
   "outputs": []
  },
  {
   "cell_type": "markdown",
   "source": [],
   "metadata": {
    "collapsed": false
   }
  },
  {
   "cell_type": "code",
   "execution_count": 15,
   "source": [
    "def test_unknot_single_twist_1():\n",
    "\n",
    "    a = pari('A')\n",
    "\n",
    "    x1 = Crossing('X')\n",
    "\n",
    "    x1[0], x1[2] = x1[1], x1[3]\n",
    "\n",
    "    sgd = SpatialGraphDiagram([x1])\n",
    "\n",
    "    assert sgd.normalized_yamada_polynomial() == normalize_yamada_polynomial(-a ** 2 - a - 1)"
   ],
   "metadata": {
    "collapsed": false
   },
   "outputs": []
  },
  {
   "cell_type": "markdown",
   "source": [],
   "metadata": {
    "collapsed": false
   }
  },
  {
   "cell_type": "code",
   "execution_count": 16,
   "source": [
    "def test_unknot_single_twist_2():\n",
    "\n",
    "    a = pari('A')\n",
    "\n",
    "    x1 = Crossing('X')\n",
    "\n",
    "    x1[1], x1[3] = x1[2], x1[0]\n",
    "\n",
    "    sgd = SpatialGraphDiagram([x1])\n",
    "\n",
    "    assert sgd.normalized_yamada_polynomial() == normalize_yamada_polynomial(-a ** 2 - a - 1)"
   ],
   "metadata": {
    "collapsed": false
   },
   "outputs": []
  },
  {
   "cell_type": "markdown",
   "source": [],
   "metadata": {
    "collapsed": false
   }
  },
  {
   "cell_type": "code",
   "execution_count": 17,
   "source": [
    "def test_yamada_polynomial_theta_2_graph():\n",
    "    \"\"\"\n",
    "    The Theta_2 graph from Drobrynin and Vesnin\n",
    "    \"\"\"\n",
    "\n",
    "    a = pari('A')\n",
    "\n",
    "    va, vb = Vertex(3, 'a'), Vertex(3, 'b')\n",
    "    x, y, z = [Crossing(L) for L in 'XYZ']\n",
    "    va[0], va[1], va[2] = x[0], vb[2], y[1]\n",
    "    vb[0], vb[1] = x[3], z[0]\n",
    "    x[1], x[2] = y[0], z[1]\n",
    "    y[2], y[3] = z[3], z[2]\n",
    "    sgd = SpatialGraphDiagram([va, vb, x, y, z])\n",
    "    g = sgd.underlying_graph()\n",
    "    t = nx.MultiGraph(3 * [(0, 1)])\n",
    "\n",
    "    assert nx.is_isomorphic(g, t)\n",
    "\n",
    "    assert sgd.normalized_yamada_polynomial() == normalize_yamada_polynomial(\n",
    "        a ** 12 - a ** 8 - a ** 6 - a ** 4 - a ** 3 - a ** 2 - a - 1)"
   ],
   "metadata": {
    "collapsed": false
   },
   "outputs": []
  },
  {
   "cell_type": "markdown",
   "source": [
    "## Omega 2 Graph\n",
    "\n",
    "![Omega 2 Graph](./images/omega_graphs/omega_2_graph.png)"
   ],
   "metadata": {
    "collapsed": false
   }
  },
  {
   "cell_type": "code",
   "execution_count": 18,
   "source": [
    "# TODO FIX NUMBER ORDER 3 NODE\n",
    "def test_yamada_polynomial_omega_2_graph():\n",
    "    \"\"\"\n",
    "    The Omega_2 graph from Drobrynin and Vesnin:\n",
    "    \"\"\"\n",
    "\n",
    "    a = pari('A')\n",
    "\n",
    "    va, vb, vc, vd = [Vertex(3, L) for L in 'abcd']\n",
    "    x, y, z = [Crossing(L) for L in 'XYZ']\n",
    "    va[0], va[1], va[2] = vd[0], vb[2], x[2]\n",
    "    vb[0], vb[1] = vc[0], x[3]\n",
    "    vc[1], vc[2] = vd[2], z[0]\n",
    "    vd[1] = z[1]\n",
    "    x[0], x[1] = y[3], y[2]\n",
    "    y[0], y[1] = z[3], z[2]\n",
    "    sgd = SpatialGraphDiagram([va, vb, vc, vd, x, y, z])\n",
    "    g = sgd.underlying_graph()\n",
    "\n",
    "    assert nx.is_isomorphic(g, nx.complete_graph(4))\n",
    "\n",
    "    expected_normalized_yamada_polynomial = \\\n",
    "        normalize_yamada_polynomial(a**-5 + a**-4 + a**-3 + a**-2 + a**-1 -1 + a - 2*a**2+a**3-a**4+a**5+a**6+a**8)\n",
    "\n",
    "    assert sgd.normalized_yamada_polynomial() == expected_normalized_yamada_polynomial"
   ],
   "metadata": {
    "collapsed": false
   },
   "outputs": []
  },
  {
   "cell_type": "markdown",
   "source": [],
   "metadata": {
    "collapsed": false
   }
  }
 ],
 "metadata": {
  "kernelspec": {
   "display_name": "Python 3",
   "language": "python",
   "name": "python3"
  },
  "language_info": {
   "codemirror_mode": {
    "name": "ipython",
    "version": 2
   },
   "file_extension": ".py",
   "mimetype": "text/x-python",
   "name": "python",
   "nbconvert_exporter": "python",
   "pygments_lexer": "ipython2",
   "version": "2.7.6"
  }
 },
 "nbformat": 4,
 "nbformat_minor": 0
}
